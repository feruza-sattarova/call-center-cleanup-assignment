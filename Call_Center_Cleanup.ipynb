{
 "cells": [
  {
   "cell_type": "markdown",
   "id": "331a1c4f",
   "metadata": {},
   "source": [
    "# Call Center Cleanup\n",
    "\n",
    "For this assignment, we will be working with call center data. You can start working on the assignment after the first lesson on Exploratory Data Analysis. Make sure to read the whole assignment before starting anything! As you code along in the Jupyter notebook, you are asked to make note of the results of your analysis. Do so by clicking on the results box and adding your notes beside each question.\n",
    "\n",
    "## Business Issue and Understanding\n",
    "\n",
    "You are working for a company that has two call centers: the North Call Center and the South Call Center. The company is looking to possibly hire five additional reps to enhance customer experience. Your task is to explore how efficient the current reps are in each branch to determine which branch would benefit from additional assistance.\n",
    "\n",
    "### How the Call Center Works\n",
    "\n",
    "Call center representatives are assigned queues. When calls are assigned to a queue, the call is assigned to the next person in line in the queue. After a call is assigned to a representative, the amount of time between assignment and the call starting is divided into busy minutes and not ready minutes. If the call is incoming and a customer is waiting on the phone for a rep, the time is split into three categories: busy minutes, not ready minutes, and incoming call wait time. Once the rep has the customer on the phone, there might be during call wait time, where the call is put on hold while the rep gets an answer for the customer.\n",
    "\n",
    "### Notes about the Dataset\n",
    "\n",
    "If you haven't worked in a call center before, these notes might help you throughout your analysis.\n",
    "\n",
    "* The call purpose is tagged for each call.\n",
    "* The time of the call is tagged in 1 hour blocks starting at 9:00 AM and ending at 5:00 PM.\n",
    "* Calls are tagged as incoming or outgoing.\n",
    "* Reps are assigned to queues. When the reps are working, they take calls in the order of their queue.\n",
    "* A call that is dropped due to technical error or missed by the center because they have reached maximum capacity is a lost call.\n",
    "* An abandoned call is when the customer hangs up because they have been waiting for too long.\n",
    "* Busy Minutes: the amount of time after a call comes in or needs to go out where the assigned rep is not available because they are busy with other customers.\n",
    "* Not Ready Minutes: the amount of time after a call comes in or needs to go out where the assigned rep is not available because they are not ready (for example, getting water).\n",
    "* Incoming Wait Time - amount of time after assigned rep is available to take the call customer waits for representative to pick up a call. This is tracked in seconds.\n",
    "* During Call Wait Time - amount of time during call that customer has to wait for representative\n",
    "\n",
    "## Getting Started\n",
    "\n",
    "You have two CSVs at your disposal, `NorthCallCenter.csv` and `SouthCallCenter.csv`. Import the appropriate libraries and create two dataframes, one called `north_df` and one called `south_df`."
   ]
  },
  {
   "cell_type": "code",
   "execution_count": 2,
   "id": "f362436b",
   "metadata": {},
   "outputs": [],
   "source": [
    "# Import the appropriate libraries with aliases\n",
    "import pandas as pd\n",
    "import matplotlib\n",
    "import matplotlib.pyplot as plt\n",
    "import numpy as np\n",
    "\n",
    "# Create two new dataframes\n",
    "north_df = pd.read_csv('NorthCallCenter.csv')\n",
    "south_df = pd.read_csv('SouthCallCenter.csv')"
   ]
  },
  {
   "cell_type": "markdown",
   "id": "37f77cd4",
   "metadata": {},
   "source": [
    "<span style=\"background-color:orangered; color:orangered;\">- - - - - - - - - - - - - - - - - - - - - - - - - - - - - - - - - - - - - - - - - - - - - - - - - - - - - - - - - - - - - - - - - - - - - - - - - - - - - - - - - - - - - - - - -</span>"
   ]
  },
  {
   "cell_type": "markdown",
   "id": "b4d3484b",
   "metadata": {},
   "source": [
    "## Exploratory Data Analysis\n",
    "\n",
    "Time to do some EDA! In the process of learning more about the two datasets, answer the following questions. In the code blocks below enter the code used to solve the question.  At the end of the section record your answers by double clicking where asked."
   ]
  },
  {
   "cell_type": "markdown",
   "id": "76898991",
   "metadata": {},
   "source": [
    "#### EDA Question 1A:  How many reps are in the North branch?  "
   ]
  },
  {
   "cell_type": "code",
   "execution_count": 3,
   "id": "ce3eb5e4",
   "metadata": {},
   "outputs": [
    {
     "name": "stdout",
     "output_type": "stream",
     "text": [
      "Number of reps in the North branch: 245\n"
     ]
    }
   ],
   "source": [
    "#Code Used:\n",
    "num_reps_in_north = len(north_df)\n",
    "print(\"Number of reps in the North branch:\", num_reps_in_north)"
   ]
  },
  {
   "cell_type": "markdown",
   "id": "2a9b34d8",
   "metadata": {},
   "source": [
    "#### EDA Question 1B:  How many reps are in the South branch?  "
   ]
  },
  {
   "cell_type": "code",
   "execution_count": 6,
   "id": "3c715bbf",
   "metadata": {},
   "outputs": [
    {
     "name": "stdout",
     "output_type": "stream",
     "text": [
      "Number of reps in the South branch: 314\n"
     ]
    }
   ],
   "source": [
    "#Code Used:\n",
    "num_reps_in_south = len(south_df)\n",
    "print(\"Number of reps in the South branch:\", num_reps_in_south)"
   ]
  },
  {
   "cell_type": "markdown",
   "id": "a872f045",
   "metadata": {},
   "source": [
    "#### EDA Question 2A:  What is the average busy minutes, not ready minutes, incoming wait time, and during call wait time for the North branch? "
   ]
  },
  {
   "cell_type": "code",
   "execution_count": 16,
   "id": "3759305f",
   "metadata": {},
   "outputs": [
    {
     "name": "stdout",
     "output_type": "stream",
     "text": [
      "Average Busy Minutes for the North branch: 9.987755102040817\n",
      "Average Not Ready Minutes for the North branch: 1.9142857142857144\n",
      "Average Incoming Wait Time for the North branch: 3.048780487804878\n",
      "Average During Call Wait Time for the North branch: 2.9673469387755103\n"
     ]
    }
   ],
   "source": [
    "#Code Used:\n",
    "north_df.head()\n",
    "\n",
    "average_busy_minutes = north_df['Busy Minutes'].mean()\n",
    "average_not_ready_minutes = north_df['Not Ready Minutes'].mean()\n",
    "average_incoming_wait_time = north_df['Incoming Wait Time'].mean()\n",
    "average_during_call_wait_time = north_df['During Call Wait Time'].mean()\n",
    "\n",
    "print(\"Average Busy Minutes for the North branch:\", average_busy_minutes)\n",
    "print(\"Average Not Ready Minutes for the North branch:\", average_not_ready_minutes)\n",
    "print(\"Average Incoming Wait Time for the North branch:\", average_incoming_wait_time)\n",
    "print(\"Average During Call Wait Time for the North branch:\", average_during_call_wait_time)"
   ]
  },
  {
   "cell_type": "markdown",
   "id": "3851cf3e",
   "metadata": {},
   "source": [
    "#### EDA Question 2B:  What is the average busy minutes, not ready minutes, incoming wait time, and during call wait time for the South branch? "
   ]
  },
  {
   "cell_type": "code",
   "execution_count": 42,
   "id": "60dc0e89",
   "metadata": {},
   "outputs": [
    {
     "data": {
      "text/html": [
       "<div>\n",
       "<style scoped>\n",
       "    .dataframe tbody tr th:only-of-type {\n",
       "        vertical-align: middle;\n",
       "    }\n",
       "\n",
       "    .dataframe tbody tr th {\n",
       "        vertical-align: top;\n",
       "    }\n",
       "\n",
       "    .dataframe thead th {\n",
       "        text-align: right;\n",
       "    }\n",
       "</style>\n",
       "<table border=\"1\" class=\"dataframe\">\n",
       "  <thead>\n",
       "    <tr style=\"text-align: right;\">\n",
       "      <th></th>\n",
       "      <th>Unnamed: 0</th>\n",
       "      <th>Branch</th>\n",
       "      <th>Call Purpose</th>\n",
       "      <th>Time Block</th>\n",
       "      <th>Incoming or Outgoing</th>\n",
       "      <th>Queue</th>\n",
       "      <th>Rep ID</th>\n",
       "      <th>Sale</th>\n",
       "      <th>Lost Call</th>\n",
       "      <th>Abandoned</th>\n",
       "      <th>Busy Minutes</th>\n",
       "      <th>Not Ready Minutes</th>\n",
       "      <th>Incoming Wait Time</th>\n",
       "      <th>During Call Wait Time</th>\n",
       "      <th>Calls</th>\n",
       "    </tr>\n",
       "  </thead>\n",
       "  <tbody>\n",
       "    <tr>\n",
       "      <th>0</th>\n",
       "      <td>0</td>\n",
       "      <td>South</td>\n",
       "      <td>Sales Support</td>\n",
       "      <td>10:00 AM</td>\n",
       "      <td>Incoming</td>\n",
       "      <td>D</td>\n",
       "      <td>Kate</td>\n",
       "      <td>NO</td>\n",
       "      <td>0</td>\n",
       "      <td>0</td>\n",
       "      <td>9</td>\n",
       "      <td>1</td>\n",
       "      <td>1.0</td>\n",
       "      <td>2</td>\n",
       "      <td>1</td>\n",
       "    </tr>\n",
       "    <tr>\n",
       "      <th>1</th>\n",
       "      <td>1</td>\n",
       "      <td>South</td>\n",
       "      <td>Sales Support</td>\n",
       "      <td>10:00 AM</td>\n",
       "      <td>Incoming</td>\n",
       "      <td>C</td>\n",
       "      <td>Eric</td>\n",
       "      <td>NO</td>\n",
       "      <td>0</td>\n",
       "      <td>0</td>\n",
       "      <td>8</td>\n",
       "      <td>2</td>\n",
       "      <td>1.0</td>\n",
       "      <td>4</td>\n",
       "      <td>1</td>\n",
       "    </tr>\n",
       "    <tr>\n",
       "      <th>2</th>\n",
       "      <td>2</td>\n",
       "      <td>South</td>\n",
       "      <td>Sales Support</td>\n",
       "      <td>10:00 AM</td>\n",
       "      <td>Incoming</td>\n",
       "      <td>C</td>\n",
       "      <td>Susan</td>\n",
       "      <td>NO</td>\n",
       "      <td>0</td>\n",
       "      <td>0</td>\n",
       "      <td>10</td>\n",
       "      <td>2</td>\n",
       "      <td>1.0</td>\n",
       "      <td>4</td>\n",
       "      <td>1</td>\n",
       "    </tr>\n",
       "    <tr>\n",
       "      <th>3</th>\n",
       "      <td>3</td>\n",
       "      <td>South</td>\n",
       "      <td>Sales Support</td>\n",
       "      <td>10:00 AM</td>\n",
       "      <td>Incoming</td>\n",
       "      <td>C</td>\n",
       "      <td>Alice</td>\n",
       "      <td>NO</td>\n",
       "      <td>0</td>\n",
       "      <td>0</td>\n",
       "      <td>12</td>\n",
       "      <td>1</td>\n",
       "      <td>1.0</td>\n",
       "      <td>3</td>\n",
       "      <td>1</td>\n",
       "    </tr>\n",
       "    <tr>\n",
       "      <th>4</th>\n",
       "      <td>4</td>\n",
       "      <td>South</td>\n",
       "      <td>Sales Support</td>\n",
       "      <td>12:00 PM</td>\n",
       "      <td>Incoming</td>\n",
       "      <td>C</td>\n",
       "      <td>Sandy</td>\n",
       "      <td>NO</td>\n",
       "      <td>0</td>\n",
       "      <td>0</td>\n",
       "      <td>8</td>\n",
       "      <td>3</td>\n",
       "      <td>1.0</td>\n",
       "      <td>3</td>\n",
       "      <td>1</td>\n",
       "    </tr>\n",
       "  </tbody>\n",
       "</table>\n",
       "</div>"
      ],
      "text/plain": [
       "   Unnamed: 0 Branch   Call Purpose Time Block Incoming or Outgoing Queue  \\\n",
       "0           0  South  Sales Support   10:00 AM             Incoming     D   \n",
       "1           1  South  Sales Support   10:00 AM             Incoming     C   \n",
       "2           2  South  Sales Support   10:00 AM             Incoming     C   \n",
       "3           3  South  Sales Support   10:00 AM             Incoming     C   \n",
       "4           4  South  Sales Support   12:00 PM             Incoming     C   \n",
       "\n",
       "  Rep ID Sale  Lost Call  Abandoned  Busy Minutes  Not Ready Minutes  \\\n",
       "0   Kate   NO          0          0             9                  1   \n",
       "1   Eric   NO          0          0             8                  2   \n",
       "2  Susan   NO          0          0            10                  2   \n",
       "3  Alice   NO          0          0            12                  1   \n",
       "4  Sandy   NO          0          0             8                  3   \n",
       "\n",
       "   Incoming Wait Time  During Call Wait Time  Calls  \n",
       "0                 1.0                      2      1  \n",
       "1                 1.0                      4      1  \n",
       "2                 1.0                      4      1  \n",
       "3                 1.0                      3      1  \n",
       "4                 1.0                      3      1  "
      ]
     },
     "execution_count": 42,
     "metadata": {},
     "output_type": "execute_result"
    }
   ],
   "source": [
    "south_df.head()"
   ]
  },
  {
   "cell_type": "code",
   "execution_count": 44,
   "id": "a77ec152",
   "metadata": {},
   "outputs": [
    {
     "name": "stdout",
     "output_type": "stream",
     "text": [
      "Average Busy Minutes for the South branch: 10.054140127388536\n",
      "Average Not Ready Minutes for the South branch: 1.910828025477707\n",
      "Average Incoming Wait Time for the South branch: 3.0\n",
      "Average During Call Wait Time for the South branch: 3.0764331210191083\n"
     ]
    },
    {
     "name": "stderr",
     "output_type": "stream",
     "text": [
      "C:\\Users\\syfer\\AppData\\Local\\Temp\\ipykernel_21924\\2113128363.py:2: FutureWarning: The default value of numeric_only in DataFrame.mean is deprecated. In a future version, it will default to False. In addition, specifying 'numeric_only=None' is deprecated. Select only valid columns or specify the value of numeric_only to silence this warning.\n",
      "  south_df.mean()\n"
     ]
    }
   ],
   "source": [
    "#Code Used:\n",
    "south_df.mean()\n",
    "\n",
    "average_busy_minutes_south = south_df['Busy Minutes'].mean()\n",
    "average_not_ready_mins_south = south_df['Not Ready Minutes'].mean()\n",
    "average_incoming_wait_time_south = south_df['Incoming Wait Time'].mean()\n",
    "average_during_call_wait_south = south_df['During Call Wait Time'].mean()\n",
    "\n",
    "print(\"Average Busy Minutes for the South branch:\", average_busy_minutes_south)\n",
    "print(\"Average Not Ready Minutes for the South branch:\", average_not_ready_mins_south)\n",
    "print(\"Average Incoming Wait Time for the South branch:\", average_incoming_wait_time_south)\n",
    "print(\"Average During Call Wait Time for the South branch:\", average_during_call_wait_south)"
   ]
  },
  {
   "cell_type": "markdown",
   "id": "75915553",
   "metadata": {},
   "source": [
    "#### EDA Question 3:  What is the number of calls taken for each time block(Both North and South combined)?"
   ]
  },
  {
   "cell_type": "code",
   "execution_count": 45,
   "id": "49566936",
   "metadata": {},
   "outputs": [
    {
     "name": "stdout",
     "output_type": "stream",
     "text": [
      "Time Block\n",
      "10:00 AM     99\n",
      "11:00 AM     56\n",
      "12:00 PM    120\n",
      "1:00 PM      40\n",
      "2:00 PM      65\n",
      "3:00 PM      73\n",
      "4:00 PM      53\n",
      "5:00 PM      43\n",
      "9:00 AM      10\n",
      "Name: Calls, dtype: int64\n"
     ]
    }
   ],
   "source": [
    "# Code Used:\n",
    "combined_df = pd.concat([north_df, south_df])\n",
    "calls_per_time_block = combined_df.groupby('Time Block')['Calls'].sum()\n",
    "\n",
    "# Print the result\n",
    "print(calls_per_time_block)"
   ]
  },
  {
   "cell_type": "markdown",
   "id": "40b1fd3f",
   "metadata": {},
   "source": [
    "##### Record your answers for the EDA section by double clicking here:\n",
    "- 1a) Reps in the North Branch = \n",
    "- 1b) Reps in the South Branch = \n",
    "\n",
    "\n",
    "- 2a) North Branch, (round to the nearest hundredth):\n",
    "> - Busy Minutes = \n",
    "> - Not Ready Minutes = \n",
    "> - Incoming Wait Time = \n",
    "> - During Call Wait Time = \n",
    "- 2b) South Branch, (round to the nearest hundredth):\n",
    "> - Busy Minutes = \n",
    "> - Not Ready Minutes = \n",
    "> - Incoming Wait Time = \n",
    "> - During Call Wait Time = \n",
    "- 3) Total Calls taken for all branches per time block:\n",
    "> - 9:00AM   = \n",
    "> - 10:00AM  = \n",
    "> - 11:00AM  = \n",
    "> - 12:00PM  = \n",
    "> - 1:00PM   = \n",
    "> - 2:00PM   = \n",
    "> - 3:00PM   = \n",
    "> - 4:00PM   = \n",
    "> - 5:00PM   = \n",
    "\n"
   ]
  },
  {
   "cell_type": "markdown",
   "id": "446048d3",
   "metadata": {},
   "source": [
    "<span style=\"background-color:orangered; color:orangered;\">- - - - - - - - - - - - - - - - - - - - - - - - - - - - - - - - - - - - - - - - - - - - - - - - - - - - - - - - - - - - - - - - - - - - - - - - - - - - - - - - - - - - - - - - -</span>"
   ]
  },
  {
   "cell_type": "markdown",
   "id": "366bfb19",
   "metadata": {},
   "source": [
    "## Cleaning Your Data \n",
    "Now you need to clean up the datasets. When cleaning the datasets, you may find that there isn't dirty data to clean. That is okay! Some questions you need to answer about the data sets.\n",
    "* Add additional code blocks as needed to show how you came to your conclusions. Add comments in your code blocks to help others understand your thinking. "
   ]
  },
  {
   "cell_type": "markdown",
   "id": "c3564d69",
   "metadata": {},
   "source": [
    "#### Cleaning Question 1:  Is there any missing data and if yes explain what you would do with the missing data and why?\n",
    "\n",
    "> Your Answer: To find missing data in the dataframe, we can use 'isnull()' which identifies if each value is missing or not. After that, we can use 'sum()' to count the number of missing values for each column. "
   ]
  },
  {
   "cell_type": "code",
   "execution_count": 27,
   "id": "b77fb574",
   "metadata": {},
   "outputs": [
    {
     "name": "stdout",
     "output_type": "stream",
     "text": [
      "Unnamed: 0                 0\n",
      "Branch                     0\n",
      "Call Purpose               0\n",
      "Time Block                 0\n",
      "Incoming or Outgoing       0\n",
      "Queue                      0\n",
      "Rep ID                     0\n",
      "Sale                       0\n",
      "Lost Call                  0\n",
      "Abandoned                  0\n",
      "Busy Minutes               0\n",
      "Not Ready Minutes          0\n",
      "Incoming Wait Time       351\n",
      "During Call Wait Time      0\n",
      "Calls                      0\n",
      "dtype: int64\n"
     ]
    }
   ],
   "source": [
    "# Code Used\n",
    "missing_data = combined_df.isnull().sum()\n",
    "print(missing_data)\n"
   ]
  },
  {
   "cell_type": "markdown",
   "id": "dc47f020",
   "metadata": {},
   "source": [
    "#### Cleaning Question 2:  In the North data set, there are two separate \"YES\" values for a sale. Why and how did you rectify the issue?\n",
    "\n",
    "> Your Answer: There are two values for 'YES' because one value contains a space after it. To fix the issue I removed the whitespaces in the 'Sale' column using 'str.strip()'."
   ]
  },
  {
   "cell_type": "code",
   "execution_count": 70,
   "id": "4e0fbad6",
   "metadata": {},
   "outputs": [
    {
     "data": {
      "text/html": [
       "<div>\n",
       "<style scoped>\n",
       "    .dataframe tbody tr th:only-of-type {\n",
       "        vertical-align: middle;\n",
       "    }\n",
       "\n",
       "    .dataframe tbody tr th {\n",
       "        vertical-align: top;\n",
       "    }\n",
       "\n",
       "    .dataframe thead th {\n",
       "        text-align: right;\n",
       "    }\n",
       "</style>\n",
       "<table border=\"1\" class=\"dataframe\">\n",
       "  <thead>\n",
       "    <tr style=\"text-align: right;\">\n",
       "      <th></th>\n",
       "      <th>Unnamed: 0</th>\n",
       "      <th>Branch</th>\n",
       "      <th>Time Block</th>\n",
       "      <th>Incoming or Outgoing</th>\n",
       "      <th>Queue</th>\n",
       "      <th>Rep ID</th>\n",
       "      <th>Sale</th>\n",
       "      <th>Lost Call</th>\n",
       "      <th>Abandoned</th>\n",
       "      <th>Busy Minutes</th>\n",
       "      <th>Not Ready Minutes</th>\n",
       "      <th>Incoming Wait Time</th>\n",
       "      <th>During Call Wait Time</th>\n",
       "      <th>Calls</th>\n",
       "    </tr>\n",
       "  </thead>\n",
       "  <tbody>\n",
       "    <tr>\n",
       "      <th>19</th>\n",
       "      <td>19</td>\n",
       "      <td>North</td>\n",
       "      <td>10:00 AM</td>\n",
       "      <td>Incoming</td>\n",
       "      <td>B</td>\n",
       "      <td>Lilly</td>\n",
       "      <td>YES</td>\n",
       "      <td>0</td>\n",
       "      <td>0</td>\n",
       "      <td>11</td>\n",
       "      <td>2</td>\n",
       "      <td>2.0</td>\n",
       "      <td>4</td>\n",
       "      <td>1</td>\n",
       "    </tr>\n",
       "    <tr>\n",
       "      <th>40</th>\n",
       "      <td>40</td>\n",
       "      <td>North</td>\n",
       "      <td>12:00 PM</td>\n",
       "      <td>Incoming</td>\n",
       "      <td>B</td>\n",
       "      <td>Lilly</td>\n",
       "      <td>YES</td>\n",
       "      <td>0</td>\n",
       "      <td>0</td>\n",
       "      <td>10</td>\n",
       "      <td>1</td>\n",
       "      <td>3.0</td>\n",
       "      <td>2</td>\n",
       "      <td>1</td>\n",
       "    </tr>\n",
       "    <tr>\n",
       "      <th>47</th>\n",
       "      <td>47</td>\n",
       "      <td>North</td>\n",
       "      <td>10:00 AM</td>\n",
       "      <td>Incoming</td>\n",
       "      <td>A</td>\n",
       "      <td>Amanda</td>\n",
       "      <td>YES</td>\n",
       "      <td>0</td>\n",
       "      <td>0</td>\n",
       "      <td>10</td>\n",
       "      <td>3</td>\n",
       "      <td>4.0</td>\n",
       "      <td>3</td>\n",
       "      <td>1</td>\n",
       "    </tr>\n",
       "    <tr>\n",
       "      <th>67</th>\n",
       "      <td>67</td>\n",
       "      <td>North</td>\n",
       "      <td>12:00 PM</td>\n",
       "      <td>Incoming</td>\n",
       "      <td>B</td>\n",
       "      <td>Todd</td>\n",
       "      <td>YES</td>\n",
       "      <td>0</td>\n",
       "      <td>0</td>\n",
       "      <td>9</td>\n",
       "      <td>3</td>\n",
       "      <td>5.0</td>\n",
       "      <td>4</td>\n",
       "      <td>1</td>\n",
       "    </tr>\n",
       "    <tr>\n",
       "      <th>69</th>\n",
       "      <td>69</td>\n",
       "      <td>North</td>\n",
       "      <td>12:00 PM</td>\n",
       "      <td>Incoming</td>\n",
       "      <td>A</td>\n",
       "      <td>Andy</td>\n",
       "      <td>YES</td>\n",
       "      <td>0</td>\n",
       "      <td>0</td>\n",
       "      <td>10</td>\n",
       "      <td>1</td>\n",
       "      <td>5.0</td>\n",
       "      <td>2</td>\n",
       "      <td>1</td>\n",
       "    </tr>\n",
       "    <tr>\n",
       "      <th>86</th>\n",
       "      <td>86</td>\n",
       "      <td>North</td>\n",
       "      <td>10:00 AM</td>\n",
       "      <td>Outgoing</td>\n",
       "      <td>B</td>\n",
       "      <td>Lilly</td>\n",
       "      <td>YES</td>\n",
       "      <td>0</td>\n",
       "      <td>1</td>\n",
       "      <td>9</td>\n",
       "      <td>3</td>\n",
       "      <td>NaN</td>\n",
       "      <td>4</td>\n",
       "      <td>1</td>\n",
       "    </tr>\n",
       "    <tr>\n",
       "      <th>87</th>\n",
       "      <td>87</td>\n",
       "      <td>North</td>\n",
       "      <td>10:00 AM</td>\n",
       "      <td>Outgoing</td>\n",
       "      <td>B</td>\n",
       "      <td>Lilly</td>\n",
       "      <td>YES</td>\n",
       "      <td>0</td>\n",
       "      <td>1</td>\n",
       "      <td>12</td>\n",
       "      <td>1</td>\n",
       "      <td>NaN</td>\n",
       "      <td>4</td>\n",
       "      <td>1</td>\n",
       "    </tr>\n",
       "    <tr>\n",
       "      <th>99</th>\n",
       "      <td>99</td>\n",
       "      <td>North</td>\n",
       "      <td>10:00 AM</td>\n",
       "      <td>Outgoing</td>\n",
       "      <td>A</td>\n",
       "      <td>Andy</td>\n",
       "      <td>YES</td>\n",
       "      <td>0</td>\n",
       "      <td>0</td>\n",
       "      <td>12</td>\n",
       "      <td>2</td>\n",
       "      <td>NaN</td>\n",
       "      <td>2</td>\n",
       "      <td>1</td>\n",
       "    </tr>\n",
       "    <tr>\n",
       "      <th>108</th>\n",
       "      <td>108</td>\n",
       "      <td>North</td>\n",
       "      <td>11:00 AM</td>\n",
       "      <td>Outgoing</td>\n",
       "      <td>B</td>\n",
       "      <td>Lilly</td>\n",
       "      <td>YES</td>\n",
       "      <td>0</td>\n",
       "      <td>0</td>\n",
       "      <td>8</td>\n",
       "      <td>3</td>\n",
       "      <td>NaN</td>\n",
       "      <td>2</td>\n",
       "      <td>1</td>\n",
       "    </tr>\n",
       "    <tr>\n",
       "      <th>220</th>\n",
       "      <td>220</td>\n",
       "      <td>North</td>\n",
       "      <td>4:00 PM</td>\n",
       "      <td>Outgoing</td>\n",
       "      <td>A</td>\n",
       "      <td>Cam</td>\n",
       "      <td>YES</td>\n",
       "      <td>0</td>\n",
       "      <td>0</td>\n",
       "      <td>8</td>\n",
       "      <td>1</td>\n",
       "      <td>NaN</td>\n",
       "      <td>3</td>\n",
       "      <td>1</td>\n",
       "    </tr>\n",
       "    <tr>\n",
       "      <th>227</th>\n",
       "      <td>227</td>\n",
       "      <td>North</td>\n",
       "      <td>4:00 PM</td>\n",
       "      <td>Outgoing</td>\n",
       "      <td>B</td>\n",
       "      <td>Brent</td>\n",
       "      <td>YES</td>\n",
       "      <td>0</td>\n",
       "      <td>0</td>\n",
       "      <td>10</td>\n",
       "      <td>2</td>\n",
       "      <td>NaN</td>\n",
       "      <td>4</td>\n",
       "      <td>1</td>\n",
       "    </tr>\n",
       "  </tbody>\n",
       "</table>\n",
       "</div>"
      ],
      "text/plain": [
       "     Unnamed: 0 Branch Time Block Incoming or Outgoing Queue  Rep ID Sale  \\\n",
       "19           19  North   10:00 AM             Incoming     B   Lilly  YES   \n",
       "40           40  North   12:00 PM             Incoming     B   Lilly  YES   \n",
       "47           47  North   10:00 AM             Incoming     A  Amanda  YES   \n",
       "67           67  North   12:00 PM             Incoming     B    Todd  YES   \n",
       "69           69  North   12:00 PM             Incoming     A    Andy  YES   \n",
       "86           86  North   10:00 AM             Outgoing     B   Lilly  YES   \n",
       "87           87  North   10:00 AM             Outgoing     B   Lilly  YES   \n",
       "99           99  North   10:00 AM             Outgoing     A    Andy  YES   \n",
       "108         108  North   11:00 AM             Outgoing     B   Lilly  YES   \n",
       "220         220  North    4:00 PM             Outgoing     A     Cam  YES   \n",
       "227         227  North    4:00 PM             Outgoing     B   Brent  YES   \n",
       "\n",
       "     Lost Call  Abandoned  Busy Minutes  Not Ready Minutes  \\\n",
       "19           0          0            11                  2   \n",
       "40           0          0            10                  1   \n",
       "47           0          0            10                  3   \n",
       "67           0          0             9                  3   \n",
       "69           0          0            10                  1   \n",
       "86           0          1             9                  3   \n",
       "87           0          1            12                  1   \n",
       "99           0          0            12                  2   \n",
       "108          0          0             8                  3   \n",
       "220          0          0             8                  1   \n",
       "227          0          0            10                  2   \n",
       "\n",
       "     Incoming Wait Time  During Call Wait Time  Calls  \n",
       "19                  2.0                      4      1  \n",
       "40                  3.0                      2      1  \n",
       "47                  4.0                      3      1  \n",
       "67                  5.0                      4      1  \n",
       "69                  5.0                      2      1  \n",
       "86                  NaN                      4      1  \n",
       "87                  NaN                      4      1  \n",
       "99                  NaN                      2      1  \n",
       "108                 NaN                      2      1  \n",
       "220                 NaN                      3      1  \n",
       "227                 NaN                      4      1  "
      ]
     },
     "execution_count": 70,
     "metadata": {},
     "output_type": "execute_result"
    }
   ],
   "source": [
    "#Code Used\n",
    "# Identifying entries with the values other than 'NO' in the 'Sales' column. \n",
    "\n",
    "north_df[north_df['Sale']!= 'NO']"
   ]
  },
  {
   "cell_type": "code",
   "execution_count": 72,
   "id": "3547f992",
   "metadata": {},
   "outputs": [
    {
     "name": "stdout",
     "output_type": "stream",
     "text": [
      "['YES']\n"
     ]
    }
   ],
   "source": [
    "sales_not_no = north_df[north_df['Sale'] != 'NO']\n",
    "unique_sales_not_no = sales_not_no['Sale'].unique()\n",
    "print(unique_sales_not_no)\n",
    "\n",
    "#The value which was printed before I fixed it: ['YES ', 'YES']"
   ]
  },
  {
   "cell_type": "code",
   "execution_count": 41,
   "id": "c1933d79",
   "metadata": {},
   "outputs": [
    {
     "name": "stdout",
     "output_type": "stream",
     "text": [
      "['NO' 'YES']\n"
     ]
    }
   ],
   "source": [
    "# Removing leading and trailing whitespaces from the 'Sale' column\n",
    "north_df['Sale'] = north_df['Sale'].str.strip()\n",
    "\n",
    "# Standardize the values to uppercase\n",
    "north_df['Sale'] = north_df['Sale'].str.upper()\n",
    "\n",
    "# Verifying the unique values in the 'Sale' column after removing spaces\n",
    "unique_sales = north_df['Sale'].unique()\n",
    "print(unique_sales)"
   ]
  },
  {
   "cell_type": "code",
   "execution_count": 46,
   "id": "9b248c05",
   "metadata": {},
   "outputs": [
    {
     "name": "stdout",
     "output_type": "stream",
     "text": [
      "['YES']\n"
     ]
    }
   ],
   "source": [
    "sales_not_no = north_df[north_df['Sale'] != 'NO']\n",
    "#print(sales_not_no)\n",
    "\n",
    "unique_sales_not_no = sales_not_no['Sale'].unique()\n",
    "print(unique_sales_not_no)"
   ]
  },
  {
   "cell_type": "markdown",
   "id": "715f375a",
   "metadata": {},
   "source": [
    "#### Cleaning Question 3:  Are there duplicates in the two data sets? If there are, how did you handle them?\n",
    "##### Record your answer by double clicking here:\n",
    "> Your Answer: There are no duplicates in the two data sets. To find the count of duplicates I used duplicated().sum() method. "
   ]
  },
  {
   "cell_type": "code",
   "execution_count": 48,
   "id": "2323673a",
   "metadata": {},
   "outputs": [
    {
     "name": "stdout",
     "output_type": "stream",
     "text": [
      "Number of duplicates in each column of the North dataframe:\n",
      "0\n",
      "\n",
      "Number of duplicates in each column of the South dataframe:\n",
      "0\n"
     ]
    }
   ],
   "source": [
    "#Code Used\n",
    "north_duplicates_count = north_df.duplicated().sum()\n",
    "print(\"Number of duplicates in each column of the North dataframe:\")\n",
    "print(north_df.duplicated().sum())\n",
    "\n",
    "south_duplicates_count = south_df.duplicated().sum()\n",
    "print(\"\\nNumber of duplicates in each column of the South dataframe:\")\n",
    "print(south_df.duplicated().sum())"
   ]
  },
  {
   "cell_type": "markdown",
   "id": "8ffaa865",
   "metadata": {},
   "source": [
    "#### Cleaning Question 4:  Is any of the data in the two data sets unnecessary? If yes, how did you handle it?\n",
    "##### Record your answer by double clicking here:\n",
    "> Your Answer: My task as a data analyst is to explore how efficient the current reps are in each branch to determine which branch would benefit from additional assistance. So, I don't think 'Call Purpose' column is very necesarry for this task. I can drop the unnecesary column by using the 'drop()' method. "
   ]
  },
  {
   "cell_type": "code",
   "execution_count": 55,
   "id": "ce004376",
   "metadata": {},
   "outputs": [
    {
     "data": {
      "text/html": [
       "<div>\n",
       "<style scoped>\n",
       "    .dataframe tbody tr th:only-of-type {\n",
       "        vertical-align: middle;\n",
       "    }\n",
       "\n",
       "    .dataframe tbody tr th {\n",
       "        vertical-align: top;\n",
       "    }\n",
       "\n",
       "    .dataframe thead th {\n",
       "        text-align: right;\n",
       "    }\n",
       "</style>\n",
       "<table border=\"1\" class=\"dataframe\">\n",
       "  <thead>\n",
       "    <tr style=\"text-align: right;\">\n",
       "      <th></th>\n",
       "      <th>Unnamed: 0</th>\n",
       "      <th>Branch</th>\n",
       "      <th>Time Block</th>\n",
       "      <th>Incoming or Outgoing</th>\n",
       "      <th>Queue</th>\n",
       "      <th>Rep ID</th>\n",
       "      <th>Sale</th>\n",
       "      <th>Lost Call</th>\n",
       "      <th>Abandoned</th>\n",
       "      <th>Busy Minutes</th>\n",
       "      <th>Not Ready Minutes</th>\n",
       "      <th>Incoming Wait Time</th>\n",
       "      <th>During Call Wait Time</th>\n",
       "      <th>Calls</th>\n",
       "    </tr>\n",
       "  </thead>\n",
       "  <tbody>\n",
       "    <tr>\n",
       "      <th>0</th>\n",
       "      <td>0</td>\n",
       "      <td>North</td>\n",
       "      <td>9:00 AM</td>\n",
       "      <td>Incoming</td>\n",
       "      <td>B</td>\n",
       "      <td>Brent</td>\n",
       "      <td>NO</td>\n",
       "      <td>0</td>\n",
       "      <td>1</td>\n",
       "      <td>9</td>\n",
       "      <td>2</td>\n",
       "      <td>1.0</td>\n",
       "      <td>4</td>\n",
       "      <td>1</td>\n",
       "    </tr>\n",
       "    <tr>\n",
       "      <th>1</th>\n",
       "      <td>1</td>\n",
       "      <td>North</td>\n",
       "      <td>11:00 AM</td>\n",
       "      <td>Incoming</td>\n",
       "      <td>A</td>\n",
       "      <td>Cam</td>\n",
       "      <td>NO</td>\n",
       "      <td>0</td>\n",
       "      <td>0</td>\n",
       "      <td>11</td>\n",
       "      <td>1</td>\n",
       "      <td>1.0</td>\n",
       "      <td>3</td>\n",
       "      <td>1</td>\n",
       "    </tr>\n",
       "    <tr>\n",
       "      <th>2</th>\n",
       "      <td>2</td>\n",
       "      <td>North</td>\n",
       "      <td>11:00 AM</td>\n",
       "      <td>Incoming</td>\n",
       "      <td>B</td>\n",
       "      <td>Todd</td>\n",
       "      <td>NO</td>\n",
       "      <td>0</td>\n",
       "      <td>0</td>\n",
       "      <td>9</td>\n",
       "      <td>3</td>\n",
       "      <td>1.0</td>\n",
       "      <td>3</td>\n",
       "      <td>1</td>\n",
       "    </tr>\n",
       "    <tr>\n",
       "      <th>3</th>\n",
       "      <td>3</td>\n",
       "      <td>North</td>\n",
       "      <td>4:00 PM</td>\n",
       "      <td>Incoming</td>\n",
       "      <td>B</td>\n",
       "      <td>Brent</td>\n",
       "      <td>NO</td>\n",
       "      <td>0</td>\n",
       "      <td>0</td>\n",
       "      <td>11</td>\n",
       "      <td>2</td>\n",
       "      <td>1.0</td>\n",
       "      <td>4</td>\n",
       "      <td>1</td>\n",
       "    </tr>\n",
       "    <tr>\n",
       "      <th>4</th>\n",
       "      <td>4</td>\n",
       "      <td>North</td>\n",
       "      <td>12:00 PM</td>\n",
       "      <td>Incoming</td>\n",
       "      <td>B</td>\n",
       "      <td>Brent</td>\n",
       "      <td>NO</td>\n",
       "      <td>0</td>\n",
       "      <td>0</td>\n",
       "      <td>8</td>\n",
       "      <td>2</td>\n",
       "      <td>1.0</td>\n",
       "      <td>4</td>\n",
       "      <td>1</td>\n",
       "    </tr>\n",
       "  </tbody>\n",
       "</table>\n",
       "</div>"
      ],
      "text/plain": [
       "   Unnamed: 0 Branch Time Block Incoming or Outgoing Queue Rep ID Sale  \\\n",
       "0           0  North    9:00 AM             Incoming     B  Brent   NO   \n",
       "1           1  North   11:00 AM             Incoming     A    Cam   NO   \n",
       "2           2  North   11:00 AM             Incoming     B   Todd   NO   \n",
       "3           3  North    4:00 PM             Incoming     B  Brent   NO   \n",
       "4           4  North   12:00 PM             Incoming     B  Brent   NO   \n",
       "\n",
       "   Lost Call  Abandoned  Busy Minutes  Not Ready Minutes  Incoming Wait Time  \\\n",
       "0          0          1             9                  2                 1.0   \n",
       "1          0          0            11                  1                 1.0   \n",
       "2          0          0             9                  3                 1.0   \n",
       "3          0          0            11                  2                 1.0   \n",
       "4          0          0             8                  2                 1.0   \n",
       "\n",
       "   During Call Wait Time  Calls  \n",
       "0                      4      1  \n",
       "1                      3      1  \n",
       "2                      3      1  \n",
       "3                      4      1  \n",
       "4                      4      1  "
      ]
     },
     "execution_count": 55,
     "metadata": {},
     "output_type": "execute_result"
    }
   ],
   "source": [
    "combined_df.head()"
   ]
  },
  {
   "cell_type": "code",
   "execution_count": 56,
   "id": "78b45e70",
   "metadata": {},
   "outputs": [
    {
     "data": {
      "text/html": [
       "<div>\n",
       "<style scoped>\n",
       "    .dataframe tbody tr th:only-of-type {\n",
       "        vertical-align: middle;\n",
       "    }\n",
       "\n",
       "    .dataframe tbody tr th {\n",
       "        vertical-align: top;\n",
       "    }\n",
       "\n",
       "    .dataframe thead th {\n",
       "        text-align: right;\n",
       "    }\n",
       "</style>\n",
       "<table border=\"1\" class=\"dataframe\">\n",
       "  <thead>\n",
       "    <tr style=\"text-align: right;\">\n",
       "      <th></th>\n",
       "      <th>Unnamed: 0</th>\n",
       "      <th>Branch</th>\n",
       "      <th>Time Block</th>\n",
       "      <th>Rep ID</th>\n",
       "      <th>Sale</th>\n",
       "      <th>Lost Call</th>\n",
       "      <th>Abandoned</th>\n",
       "      <th>Busy Minutes</th>\n",
       "      <th>Not Ready Minutes</th>\n",
       "      <th>Incoming Wait Time</th>\n",
       "      <th>During Call Wait Time</th>\n",
       "      <th>Calls</th>\n",
       "    </tr>\n",
       "  </thead>\n",
       "  <tbody>\n",
       "    <tr>\n",
       "      <th>0</th>\n",
       "      <td>0</td>\n",
       "      <td>North</td>\n",
       "      <td>9:00 AM</td>\n",
       "      <td>Brent</td>\n",
       "      <td>NO</td>\n",
       "      <td>0</td>\n",
       "      <td>1</td>\n",
       "      <td>9</td>\n",
       "      <td>2</td>\n",
       "      <td>1.0</td>\n",
       "      <td>4</td>\n",
       "      <td>1</td>\n",
       "    </tr>\n",
       "    <tr>\n",
       "      <th>1</th>\n",
       "      <td>1</td>\n",
       "      <td>North</td>\n",
       "      <td>11:00 AM</td>\n",
       "      <td>Cam</td>\n",
       "      <td>NO</td>\n",
       "      <td>0</td>\n",
       "      <td>0</td>\n",
       "      <td>11</td>\n",
       "      <td>1</td>\n",
       "      <td>1.0</td>\n",
       "      <td>3</td>\n",
       "      <td>1</td>\n",
       "    </tr>\n",
       "    <tr>\n",
       "      <th>2</th>\n",
       "      <td>2</td>\n",
       "      <td>North</td>\n",
       "      <td>11:00 AM</td>\n",
       "      <td>Todd</td>\n",
       "      <td>NO</td>\n",
       "      <td>0</td>\n",
       "      <td>0</td>\n",
       "      <td>9</td>\n",
       "      <td>3</td>\n",
       "      <td>1.0</td>\n",
       "      <td>3</td>\n",
       "      <td>1</td>\n",
       "    </tr>\n",
       "    <tr>\n",
       "      <th>3</th>\n",
       "      <td>3</td>\n",
       "      <td>North</td>\n",
       "      <td>4:00 PM</td>\n",
       "      <td>Brent</td>\n",
       "      <td>NO</td>\n",
       "      <td>0</td>\n",
       "      <td>0</td>\n",
       "      <td>11</td>\n",
       "      <td>2</td>\n",
       "      <td>1.0</td>\n",
       "      <td>4</td>\n",
       "      <td>1</td>\n",
       "    </tr>\n",
       "    <tr>\n",
       "      <th>4</th>\n",
       "      <td>4</td>\n",
       "      <td>North</td>\n",
       "      <td>12:00 PM</td>\n",
       "      <td>Brent</td>\n",
       "      <td>NO</td>\n",
       "      <td>0</td>\n",
       "      <td>0</td>\n",
       "      <td>8</td>\n",
       "      <td>2</td>\n",
       "      <td>1.0</td>\n",
       "      <td>4</td>\n",
       "      <td>1</td>\n",
       "    </tr>\n",
       "  </tbody>\n",
       "</table>\n",
       "</div>"
      ],
      "text/plain": [
       "   Unnamed: 0 Branch Time Block Rep ID Sale  Lost Call  Abandoned  \\\n",
       "0           0  North    9:00 AM  Brent   NO          0          1   \n",
       "1           1  North   11:00 AM    Cam   NO          0          0   \n",
       "2           2  North   11:00 AM   Todd   NO          0          0   \n",
       "3           3  North    4:00 PM  Brent   NO          0          0   \n",
       "4           4  North   12:00 PM  Brent   NO          0          0   \n",
       "\n",
       "   Busy Minutes  Not Ready Minutes  Incoming Wait Time  During Call Wait Time  \\\n",
       "0             9                  2                 1.0                      4   \n",
       "1            11                  1                 1.0                      3   \n",
       "2             9                  3                 1.0                      3   \n",
       "3            11                  2                 1.0                      4   \n",
       "4             8                  2                 1.0                      4   \n",
       "\n",
       "   Calls  \n",
       "0      1  \n",
       "1      1  \n",
       "2      1  \n",
       "3      1  \n",
       "4      1  "
      ]
     },
     "execution_count": 56,
     "metadata": {},
     "output_type": "execute_result"
    }
   ],
   "source": [
    "#Code Used\n",
    "\n",
    "combined_df.drop(columns=['Incoming or Outgoing', 'Queue'], inplace=True)\n",
    "combined_df.head()"
   ]
  },
  {
   "cell_type": "markdown",
   "id": "f67d89ab",
   "metadata": {},
   "source": [
    "<span style=\"background-color:orangered; color:orangered;\">- - - - - - - - - - - - - - - - - - - - - - - - - - - - - - - - - - - - - - - - - - - - - - - - - - - - - - - - - - - - - - - - - - - - - - - - - - - - - - - - - - - - - - - - -</span>"
   ]
  },
  {
   "cell_type": "markdown",
   "id": "73342a9a",
   "metadata": {},
   "source": [
    "## Data Manipulation\n",
    "Before you begin answering any questions, combine the two datasets together to create a third dataframe called df. You can use this third dataframe to compare the two call centers to company-wide trends.\n",
    "* Add additional code blocks as needed to show how you came to your conclusions. Add comments in your code blocks to help others understand your thinking. Record your answer by double clicking the below cell."
   ]
  },
  {
   "cell_type": "code",
   "execution_count": 57,
   "id": "e9705c34",
   "metadata": {},
   "outputs": [
    {
     "name": "stdout",
     "output_type": "stream",
     "text": [
      "     Unnamed: 0 Branch Time Block Incoming or Outgoing Queue  Rep ID Sale  \\\n",
      "0             0  North    9:00 AM             Incoming     B   Brent   NO   \n",
      "1             1  North   11:00 AM             Incoming     A     Cam   NO   \n",
      "2             2  North   11:00 AM             Incoming     B    Todd   NO   \n",
      "3             3  North    4:00 PM             Incoming     B   Brent   NO   \n",
      "4             4  North   12:00 PM             Incoming     B   Brent   NO   \n",
      "..          ...    ...        ...                  ...   ...     ...  ...   \n",
      "554         309  South    5:00 PM             Outgoing     D   Helga   NO   \n",
      "555         310  South    5:00 PM             Outgoing     C   Susan   NO   \n",
      "556         311  South    5:00 PM             Outgoing     C   Sandy   NO   \n",
      "557         312  South    5:00 PM             Outgoing     C    Eric   NO   \n",
      "558         313  South    5:00 PM             Outgoing     D  George   NO   \n",
      "\n",
      "     Lost Call  Abandoned  Busy Minutes  Not Ready Minutes  \\\n",
      "0            0          1             9                  2   \n",
      "1            0          0            11                  1   \n",
      "2            0          0             9                  3   \n",
      "3            0          0            11                  2   \n",
      "4            0          0             8                  2   \n",
      "..         ...        ...           ...                ...   \n",
      "554          0          0            10                  3   \n",
      "555          0          0            12                  3   \n",
      "556          0          0             9                  3   \n",
      "557          0          0            10                  1   \n",
      "558          0          0            10                  2   \n",
      "\n",
      "     Incoming Wait Time  During Call Wait Time  Calls     Call Purpose  \n",
      "0                   1.0                      4      1              NaN  \n",
      "1                   1.0                      3      1              NaN  \n",
      "2                   1.0                      3      1              NaN  \n",
      "3                   1.0                      4      1              NaN  \n",
      "4                   1.0                      4      1              NaN  \n",
      "..                  ...                    ...    ...              ...  \n",
      "554                 NaN                      4      1  Product Support  \n",
      "555                 NaN                      4      1  Product Support  \n",
      "556                 NaN                      4      1  Product Support  \n",
      "557                 NaN                      2      1  Product Support  \n",
      "558                 NaN                      3      1  Product Support  \n",
      "\n",
      "[559 rows x 15 columns]\n"
     ]
    }
   ],
   "source": [
    "# Create dataframe for the entire company named df\n",
    "\n",
    "df = pd.concat([north_df, south_df], ignore_index=True)\n",
    "print(df)"
   ]
  },
  {
   "cell_type": "markdown",
   "id": "7e87dfd1",
   "metadata": {},
   "source": [
    "#### Manipulation Question 1:  Group by Rep ID and sum the resulting structure. Sort by calls to determine which rep in each branch has the highest number of calls.\n",
    "\n",
    "##### Record your answer by double clicking here:\n",
    "Rep with the hightest number of calls and their total calls:\n",
    "- North Branch = \n",
    "- South Branch = \n"
   ]
  },
  {
   "cell_type": "code",
   "execution_count": 58,
   "id": "3953f09a",
   "metadata": {},
   "outputs": [
    {
     "name": "stdout",
     "output_type": "stream",
     "text": [
      "   Branch  Rep ID  Calls\n",
      "2   North   Brent     37\n",
      "10  South    Eric     35\n",
      "16  South   Randy     33\n",
      "17  South   Sandy     32\n",
      "12  South   Helga     31\n",
      "6   North   Lilly     30\n",
      "4   North    Duke     29\n",
      "7   North    Todd     29\n",
      "15  South    Kate     29\n",
      "11  South  George     29\n",
      "14  South    Karl     28\n",
      "13  South    Josh     26\n",
      "19  South   Susan     26\n",
      "5   North     Joe     26\n",
      "18  South  Sharon     25\n",
      "8   North  Xander     24\n",
      "3   North     Cam     24\n",
      "1   North    Andy     23\n",
      "0   North  Amanda     23\n",
      "9   South   Alice     20\n"
     ]
    }
   ],
   "source": [
    "# Code Used\n",
    "# Group by 'Branch' and 'Rep ID' and sum the 'Calls' for each representative\n",
    "rep_calls_sum = df.groupby(['Branch', 'Rep ID'])['Calls'].sum().reset_index()\n",
    "\n",
    "# Sort the dataframe by 'Calls' in descending order to find the representatives with the highest number of calls\n",
    "rep_calls_sorted = rep_calls_sum.sort_values(by='Calls', ascending=False)\n",
    "\n",
    "# Display the resulting dataframe\n",
    "print(rep_calls_sorted)"
   ]
  },
  {
   "cell_type": "code",
   "execution_count": null,
   "id": "48898029",
   "metadata": {},
   "outputs": [],
   "source": []
  },
  {
   "cell_type": "markdown",
   "id": "809293b9",
   "metadata": {},
   "source": [
    "#### Manipulation Question 2:  The average call abandonment rate is a KPI when it comes to determining call center efficiency. As you may recall, abandoned calls are calls where the customer hangs up due to long call times. What is the average call abandonment rate for each branch and the whole company? Do any of these fall out of the optimal range of 2-5%?\n",
    "##### Record your answer by double clicking here:\n",
    "Average Call Abandonment Rates (round to the nearest hundredth):\n",
    "- North Branch = \n",
    "- South Branch = \n",
    "- Company Wide =\n",
    "- Do any of these fall out of the optimal range of 2-5%?"
   ]
  },
  {
   "cell_type": "code",
   "execution_count": 59,
   "id": "3dff7534",
   "metadata": {},
   "outputs": [
    {
     "name": "stdout",
     "output_type": "stream",
     "text": [
      "Average Call Abandonment Rates:\n",
      "North Branch = 2.86\n",
      "South Branch = 1.27\n",
      "Company Wide = 1.97\n"
     ]
    }
   ],
   "source": [
    "# Code Used\n",
    "\n",
    "# Calculate the number of abandoned calls for each branch\n",
    "abandoned_calls_by_branch = df.groupby('Branch')['Abandoned'].sum()\n",
    "\n",
    "# Calculate the total number of calls for each branch\n",
    "total_calls_by_branch = df.groupby('Branch')['Calls'].sum()\n",
    "\n",
    "# Calculate the call abandonment rate for each branch\n",
    "abandonment_rate_by_branch = (abandoned_calls_by_branch / total_calls_by_branch) * 100\n",
    "\n",
    "# Calculate the total number of abandoned calls for the whole company\n",
    "total_abandoned_calls_company = df['Abandoned'].sum()\n",
    "\n",
    "# Calculate the total number of calls for the whole company\n",
    "total_calls_company = df['Calls'].sum()\n",
    "\n",
    "# Calculate the call abandonment rate for the whole company\n",
    "abandonment_rate_company = (total_abandoned_calls_company / total_calls_company) * 100\n",
    "\n",
    "# Display the average call abandonment rates for each branch and the whole company\n",
    "print(\"Average Call Abandonment Rates:\")\n",
    "print(\"North Branch =\", round(abandonment_rate_by_branch['North'], 2))\n",
    "print(\"South Branch =\", round(abandonment_rate_by_branch['South'], 2))\n",
    "print(\"Company Wide =\", round(abandonment_rate_company, 2))"
   ]
  },
  {
   "cell_type": "markdown",
   "id": "598bb1bf",
   "metadata": {},
   "source": [
    "#### Manipulation Question 3:  Service level is another KPI when it comes to measuring call center efficiency. Service level is the percentage of calls answered within a specific number of seconds. In the case of your employer, their ideal time frame is 2 seconds. What is the percentage of calls answered within 2 seconds for each branch and the entire company?\n",
    "##### Record your answer by double clicking here:\n",
    "Percentage of calls answered within 2 seconds, include # of calls:\n",
    "- North Branch = \n",
    "- South Branch = \n",
    "- Company Wide = "
   ]
  },
  {
   "cell_type": "code",
   "execution_count": 60,
   "id": "2fc8f669",
   "metadata": {},
   "outputs": [
    {
     "name": "stdout",
     "output_type": "stream",
     "text": [
      "Service Level (Percentage of Calls Answered Within 2 Seconds):\n",
      "North Branch = 37.14\n",
      "South Branch = 29.94\n",
      "Company Wide = 33.09\n"
     ]
    }
   ],
   "source": [
    "# Code Used\n",
    "# Calculate the number of calls answered within 2 seconds for each branch\n",
    "answered_within_2_seconds_by_branch = df[df['During Call Wait Time'] <= 2].groupby('Branch')['Calls'].sum()\n",
    "\n",
    "# Calculate the total number of calls for each branch\n",
    "total_calls_by_branch = df.groupby('Branch')['Calls'].sum()\n",
    "\n",
    "# Calculate the service level for each branch as a percentage\n",
    "service_level_by_branch = (answered_within_2_seconds_by_branch / total_calls_by_branch) * 100\n",
    "\n",
    "# Calculate the total number of calls answered within 2 seconds for the whole company\n",
    "answered_within_2_seconds_company = df[df['During Call Wait Time'] <= 2]['Calls'].sum()\n",
    "\n",
    "# Calculate the total number of calls for the whole company\n",
    "total_calls_company = df['Calls'].sum()\n",
    "\n",
    "# Calculate the service level for the whole company as a percentage\n",
    "service_level_company = (answered_within_2_seconds_company / total_calls_company) * 100\n",
    "\n",
    "# Display the service level percentages for each branch and the whole company\n",
    "print(\"Service Level (Percentage of Calls Answered Within 2 Seconds):\")\n",
    "print(\"North Branch =\", round(service_level_by_branch['North'], 2))\n",
    "print(\"South Branch =\", round(service_level_by_branch['South'], 2))\n",
    "print(\"Company Wide =\", round(service_level_company, 2))"
   ]
  },
  {
   "cell_type": "markdown",
   "id": "7e19e705",
   "metadata": {},
   "source": [
    "#### Manipulation Question 4: For each branch and the entire company, what is the average speed of answer?\n",
    "##### Record your answer by double clicking here:\n",
    "Average speed of answer (rounded to nearest hundredth):\n",
    "- North Branch in seconds = \n",
    "- South Branch in seconds = \n",
    "- Company Wide in seconds = \n"
   ]
  },
  {
   "cell_type": "code",
   "execution_count": 61,
   "id": "72a653ed",
   "metadata": {},
   "outputs": [
    {
     "name": "stdout",
     "output_type": "stream",
     "text": [
      "Average Speed of Answer (ASA):\n",
      "North Branch = 2.97 seconds\n",
      "South Branch = 3.08 seconds\n",
      "Company Wide = 3.03 seconds\n"
     ]
    }
   ],
   "source": [
    "# Code Used \n",
    "# Calculate the average speed of answer for each branch\n",
    "asa_by_branch = df.groupby('Branch')['During Call Wait Time'].mean()\n",
    "\n",
    "# Calculate the average speed of answer for the entire company\n",
    "asa_company = df['During Call Wait Time'].mean()\n",
    "\n",
    "# Display the average speed of answer for each branch and the whole company\n",
    "print(\"Average Speed of Answer (ASA):\")\n",
    "print(\"North Branch =\", round(asa_by_branch['North'], 2), \"seconds\")\n",
    "print(\"South Branch =\", round(asa_by_branch['South'], 2), \"seconds\")\n",
    "print(\"Company Wide =\", round(asa_company, 2), \"seconds\")"
   ]
  },
  {
   "cell_type": "markdown",
   "id": "ba3ca2cd",
   "metadata": {},
   "source": [
    "<span style=\"background-color:orangered; color:orangered;\">- - - - - - - - - - - - - - - - - - - - - - - - - - - - - - - - - - - - - - - - - - - - - - - - - - - - - - - - - - - - - - - - - - - - - - - - - - - - - - - - - - - - - - - - -</span>"
   ]
  },
  {
   "cell_type": "markdown",
   "id": "d5f50a40",
   "metadata": {},
   "source": [
    "## Visualization\n",
    "\n",
    "Create a visualization for each of the following questions. Some of the code to handle aggregating and storing data may be written for you. For each visualization, you choose the chart style that you feel suits the situation best. Make note of the chart style you chose and why. \n",
    "\n",
    "*NOTE Some questions you may decide to use more than one chart and or chart style."
   ]
  },
  {
   "cell_type": "markdown",
   "id": "66ccf83c",
   "metadata": {},
   "source": [
    "#### Visualization 1:  What is the average abandonment rate per queue?\n",
    "##### Record your answer by double clicking here:\n",
    "\n",
    "> Chart style you chose and why: "
   ]
  },
  {
   "cell_type": "code",
   "execution_count": 62,
   "id": "c971d779",
   "metadata": {},
   "outputs": [
    {
     "name": "stderr",
     "output_type": "stream",
     "text": [
      "C:\\Users\\syfer\\AppData\\Local\\Temp\\ipykernel_21924\\3337805578.py:9: FutureWarning: The default value of numeric_only in DataFrameGroupBy.sum is deprecated. In a future version, numeric_only will default to False. Either specify numeric_only or select only columns which should be valid for the function.\n",
      "  queue_dict = df.groupby(\"Queue\").agg(\"sum\")\n"
     ]
    },
    {
     "data": {
      "image/png": "[encoded data removed]",
      "text/plain": [
       "<Figure size 640x480 with 1 Axes>"
      ]
     },
     "metadata": {},
     "output_type": "display_data"
    }
   ],
   "source": [
    "# Create visualization 1 here\n",
    "# Import any additional libraries needed with alias\n",
    "\n",
    "import matplotlib.pyplot as plt\n",
    "\n",
    "# The dictionary abandonment_rates has the data you need.\n",
    "abandonment_rates = {}\n",
    "queues = [\"A\", \"B\", \"C\", \"D\"]\n",
    "queue_dict = df.groupby(\"Queue\").agg(\"sum\")\n",
    "for i in range(4):\n",
    "    abandonment_rates[queues[i]] = queue_dict[\"Abandoned\"][i] / queue_dict[\"Calls\"][i] \n",
    "\n",
    "#Your Code Here:\n",
    "\n",
    "# Create a bar chart\n",
    "plt.bar(abandonment_rates.keys(), abandonment_rates.values())\n",
    "plt.xlabel(\"Queue\")\n",
    "plt.ylabel(\"Average Abandonment Rate\")\n",
    "plt.title(\"Average Abandonment Rate per Queue\")\n",
    "plt.ylim(0, max(abandonment_rates.values()) + 0.05)  # Set the y-axis limit to accommodate the data\n",
    "plt.show()\n"
   ]
  },
  {
   "cell_type": "markdown",
   "id": "4a9fc77f",
   "metadata": {},
   "source": [
    "#### Visualization 2: What is the service level percentage and average speed of answer for each rep in the North Branch?\n",
    "##### Record your answer by double clicking here:\n",
    "\n",
    "> Chart style you chose and why: "
   ]
  },
  {
   "cell_type": "code",
   "execution_count": 64,
   "id": "61f65a7f",
   "metadata": {},
   "outputs": [
    {
     "data": {
      "image/png": "[encoded data removed]",
      "text/plain": [
       "<Figure size 1000x600 with 1 Axes>"
      ]
     },
     "metadata": {},
     "output_type": "display_data"
    }
   ],
   "source": [
    "# Create visualization 2 here\n",
    "# north_plt contains the data you need for the average speed of answer of each rep\n",
    "\n",
    "north_plt = north_df.groupby(\"Rep ID\")[\"Incoming Wait Time\"].mean().to_frame().reset_index()\n",
    "\n",
    "# Finding each Rep's Personal Service Level Percentage.  Basically, Calls within 2 secs / total calls\n",
    "\n",
    "# Table 1: Total Incoming calls less than 2 seconds grouped by Rep\n",
    "quick_calls = north_df[north_df[\"Incoming Wait Time\"] <= 2.0]\n",
    "quick_reps = quick_calls[[\"Rep ID\", \"Calls\"]]\n",
    "quick_stats = quick_reps.groupby([\"Rep ID\"]).sum()  # Final Table\n",
    "\n",
    "\n",
    "# Table 2: Total Incoming Calls Only grouped by Rep\n",
    "total_calls_in = north_df[north_df[\"Incoming or Outgoing\"] == \"Incoming\"]\n",
    "rep_calls = total_calls_in[[\"Rep ID\", \"Calls\"]]     \n",
    "total_stats = rep_calls.groupby([\"Rep ID\"]).sum() # Final Table  \n",
    "\n",
    "#  Table 3: Service Level Percentage created via merge\n",
    "service_level = pd.merge(quick_stats, total_stats, on=\"Rep ID\")\n",
    "\n",
    "# Create Percentage Column in Table 3\n",
    "service_level[\"Service Level %\"] = service_level[\"Calls_x\"]/service_level[\"Calls_y\"] * 100\n",
    "\n",
    "#Your Code Here:\n",
    "# Merge north_plt with service_level to get data for both service level and average speed of answer\n",
    "merged_data = pd.merge(north_plt, service_level, on=\"Rep ID\")\n",
    "\n",
    "# Create a grouped bar chart\n",
    "plt.figure(figsize=(10, 6))  # Adjust the figure size if needed\n",
    "bar_width = 0.35\n",
    "index = merged_data.index\n",
    "labels = merged_data[\"Rep ID\"]\n",
    "service_level_percentage = merged_data[\"Service Level %\"]\n",
    "average_speed_of_answer = merged_data[\"Incoming Wait Time\"]\n",
    "\n",
    "plt.bar(index, service_level_percentage, bar_width, label='Service Level %')\n",
    "plt.bar(index + bar_width, average_speed_of_answer, bar_width, label='Average Speed of Answer (s)')\n",
    "\n",
    "plt.xlabel('Representative')\n",
    "plt.ylabel('Percentage / Time (s)')\n",
    "plt.title('Service Level Percentage and Average Speed of Answer per Representative (North Branch)')\n",
    "plt.xticks(index + bar_width / 2, labels, rotation=45, ha='right')\n",
    "plt.legend()\n",
    "\n",
    "plt.tight_layout()\n",
    "plt.show()\n"
   ]
  },
  {
   "cell_type": "markdown",
   "id": "f965e41a",
   "metadata": {},
   "source": [
    "#### Visualization 3: For each type of call purpose, how many calls are outgoing vs. incoming?\n",
    "##### Record your answer by double clicking here:\n",
    "\n",
    "> Chart style you chose and why: "
   ]
  },
  {
   "cell_type": "code",
   "execution_count": 65,
   "id": "44096730",
   "metadata": {},
   "outputs": [
    {
     "name": "stdout",
     "output_type": "stream",
     "text": [
      "Call Purpose     Incoming or Outgoing\n",
      "Complaint        Incoming                 36\n",
      "Product Support  Outgoing                117\n",
      "                 Incoming                 48\n",
      "Sales Support    Outgoing                 71\n",
      "                 Incoming                 42\n",
      "Name: Incoming or Outgoing, dtype: int64\n"
     ]
    },
    {
     "data": {
      "image/png": "[encoded data removed]",
      "text/plain": [
       "<Figure size 1000x600 with 1 Axes>"
      ]
     },
     "metadata": {},
     "output_type": "display_data"
    }
   ],
   "source": [
    "# Create visualization 3 here:\n",
    "# The three dictionaries, complaints, sales_support, and product_support, have the information you need\n",
    "\n",
    "purpose_group = df.groupby(\"Call Purpose\")\n",
    "call_purpose = [\"Complaint\", \"Product Support\", \"Sales Support\"]\n",
    "purpose_counts = purpose_group[\"Incoming or Outgoing\"].value_counts()\n",
    "print(purpose_counts)\n",
    "\n",
    "complaints = purpose_counts[\"Complaint\"].to_dict()\n",
    "sales_support = purpose_counts[\"Sales Support\"].to_dict()\n",
    "product_support = purpose_counts[\"Product Support\"].to_dict()\n",
    "\n",
    "#Your Code Here:\n",
    "\n",
    "# Create a stacked bar chart\n",
    "plt.figure(figsize=(10, 6))  # Adjust the figure size if needed\n",
    "\n",
    "# Plot the first bars (incoming calls)\n",
    "plt.bar(call_purpose, [complaints.get('Incoming', 0), product_support.get('Incoming', 0), sales_support.get('Incoming', 0)], \n",
    "        label='Incoming Calls', color='blue')\n",
    "\n",
    "# Plot the second bars (outgoing calls) on top of the first bars\n",
    "plt.bar(call_purpose, [complaints.get('Outgoing', 0), product_support.get('Outgoing', 0), sales_support.get('Outgoing', 0)],\n",
    "        bottom=[complaints.get('Incoming', 0), product_support.get('Incoming', 0), sales_support.get('Incoming', 0)],\n",
    "        label='Outgoing Calls', color='orange')\n",
    "\n",
    "plt.xlabel('Call Purpose')\n",
    "plt.ylabel('Number of Calls')\n",
    "plt.title('Number of Incoming and Outgoing Calls for Each Call Purpose')\n",
    "plt.legend()\n",
    "plt.xticks(rotation=45)\n",
    "\n",
    "plt.tight_layout()\n",
    "plt.show()\n"
   ]
  },
  {
   "cell_type": "markdown",
   "id": "74b9b81e",
   "metadata": {},
   "source": [
    "<span style=\"background-color:orangered; color:orangered;\">- - - - - - - - - - - - - - - - - - - - - - - - - - - - - - - - - - - - - - - - - - - - - - - - - - - - - - - - - - - - - - - - - - - - - - - - - - - - - - - - - - - - - - - - -</span>"
   ]
  },
  {
   "cell_type": "markdown",
   "id": "ea7ed568",
   "metadata": {},
   "source": [
    "## Summarize Your Work\n",
    "\n",
    "With what you know now about the two call centers and the entire company, answer the following questions. Note that while this is subjective, you should include relevant data to back up your opinion.\n"
   ]
  },
  {
   "cell_type": "markdown",
   "id": "d2fc3d13",
   "metadata": {},
   "source": [
    "#### Summary Question 1:  Using KPIs such as average abandonment rate, service level and average speed of answer, in your opinion, which one of the two branches is operating more efficiently? Why?\n",
    "\n",
    "##### Record your answer by double clicking here:\n",
    "> Your Answer: \n",
    "\n"
   ]
  },
  {
   "cell_type": "markdown",
   "id": "489f28d6",
   "metadata": {},
   "source": [
    "#### Summary Question 2: Based on the number of reps in each branch and how quickly the reps are working, in your opinion, which branch would benefit from the extra help?\n",
    "\n",
    "##### Record your answer by double clicking here:\n",
    "> Your Answer: \n"
   ]
  },
  {
   "cell_type": "markdown",
   "id": "0b10a8c3",
   "metadata": {},
   "source": [
    "#### Summary Question 3: Now that you have explored the datasets, is there any data or information that you wish you had in this analysis?\n",
    "\n",
    "##### Record your answer by double clicking here:\n",
    "> Your Answer: \n"
   ]
  },
  {
   "cell_type": "markdown",
   "id": "b67867ae",
   "metadata": {},
   "source": [
    "<span style=\"background-color:orangered; color:orangered;\">- - - - - - - - - - - - - - - - - - - - - - - - - - - - - - - - - - - - - - - - - - - - - - - - - - - - - - - - - - - - - - - - - - - - - - - - - - - - - - - - - - - - - - - - -</span>"
   ]
  },
  {
   "cell_type": "markdown",
   "id": "ce16f43d",
   "metadata": {},
   "source": [
    "## Bonus Mission\n",
    "Create a visualization that answers this question: For each call purpose, how many calls (incoming and outgoing) take place in each time block?\n",
    "##### Record your answer by double clicking here:\n",
    "\n",
    "> Chart style you chose and why: "
   ]
  },
  {
   "cell_type": "code",
   "execution_count": null,
   "id": "f220240a",
   "metadata": {},
   "outputs": [],
   "source": []
  },
  {
   "cell_type": "code",
   "execution_count": 69,
   "id": "71b04f32",
   "metadata": {},
   "outputs": [
    {
     "data": {
      "image/png": "[encoded data removed]",
      "text/plain": [
       "<Figure size 1000x600 with 1 Axes>"
      ]
     },
     "metadata": {},
     "output_type": "display_data"
    }
   ],
   "source": [
    "# Create your Bonus Mission visualization here!\n",
    "import seaborn as sns\n",
    "\n",
    "call_times = df[[\"Time Block\", \"Call Purpose\", \"Incoming or Outgoing\", \"Calls\"]]\n",
    "\n",
    "# Group the data by 'Call Purpose'\n",
    "grouped_data = call_times.groupby('Call Purpose')\n",
    "\n",
    "# Get the data for the specific call purpose \"Complaint\"\n",
    "call_purpose_complaint = grouped_data.get_group('Complaint')\n",
    "\n",
    "# Group the data for the specific call purpose by 'Time Block' and 'Incoming or Outgoing', and calculate the sum of calls\n",
    "complaint_grouped = call_purpose_complaint.groupby(['Time Block', 'Incoming or Outgoing'])['Calls'].sum().reset_index()\n",
    "\n",
    "# Create the visualization using a grouped bar chart\n",
    "plt.figure(figsize=(10, 6))\n",
    "\n",
    "# Use seaborn barplot to plot the data\n",
    "sns.barplot(x='Time Block', y='Calls', hue='Incoming or Outgoing', data=complaint_grouped, palette='pastel')\n",
    "\n",
    "plt.xlabel('Time Block')\n",
    "plt.ylabel('Number of Calls')\n",
    "plt.title('Number of Incoming and Outgoing Calls for \"Complaint\" Call Purpose in Time Blocks')\n",
    "plt.xticks(rotation=45, ha='right')\n",
    "\n",
    "plt.legend(title='Call Type', bbox_to_anchor=(1.05, 1), loc='upper left')\n",
    "plt.tight_layout()\n",
    "\n",
    "plt.show()"
   ]
  },
  {
   "cell_type": "code",
   "execution_count": null,
   "id": "94714579",
   "metadata": {},
   "outputs": [],
   "source": []
  }
 ],
 "metadata": {
  "kernelspec": {
   "display_name": "Python 3 (ipykernel)",
   "language": "python",
   "name": "python3"
  },
  "language_info": {
   "codemirror_mode": {
    "name": "ipython",
    "version": 3
   },
   "file_extension": ".py",
   "mimetype": "text/x-python",
   "name": "python",
   "nbconvert_exporter": "python",
   "pygments_lexer": "ipython3",
   "version": "3.10.9"
  }
 },
 "nbformat": 4,
 "nbformat_minor": 5
}
